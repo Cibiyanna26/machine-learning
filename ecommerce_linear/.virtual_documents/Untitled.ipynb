import pandas as pd
import numpy as np
import matplotlib as plt
import seaborn as sns
%matplotlib inline


customers = pd.read_csv('Ecommerce Customers')
customers.head()


customers.describe()


len(customers)


customers.info()


sns.jointplot(x='Time on Website',y='Yearly Amount Spent',data = customers)


sns.jointplot(x='Time on App',y='Yearly Amount Spent',data=customers)


sns.jointplot(x='Length of Membership',y='Yearly Amount Spent',data=customers)


sns.jointplot(x='Length of Membership',y ='Length of Membership', data = customers, kind='hex')


sns.pairplot(customers)


sns.jointplot(x='Yearly Amount Spent',y='Length of Membership',data=customers)


sns.set(color_codes=True)
sns.lmplot(x='Length of Membership', y='Yearly Amount Spent',data=customers)


X = customers[['Avg. Session Length', 'Time on App',
       'Time on Website', 'Length of Membership']]


y= customers['Yearly Amount Spent']


from sklearn.model_selection import train_test_split


X_train,X_test,y_train,y_test = train_test_split(X,y,test_size=0.3,random_state=100)


from sklearn.linear_model import LinearRegression


lm = LinearRegression()


lm.fit(X_train, y_train )


predictions = lm.predict(X_test)


from sklearn.metrics import mean_absolute_error, mean_squared_error, r2_score


import sklearn.metrics as metrics
print('MAE: {}'.format(metrics.mean_absolute_error(y_test, predictions)))
print('MSE: {}'.format(metrics.mean_squared_error(y_test, predictions)))
print('RMSE: {}'.format(np.sqrt(metrics.mean_squared_error(y_test, predictions))))



