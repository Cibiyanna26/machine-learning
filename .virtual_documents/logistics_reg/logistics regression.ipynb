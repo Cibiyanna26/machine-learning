import pandas as pd
from matplotlib import pyplot as plt
%matplotlib inline


df = pd.read_csv('insurance_data.csv');
df.head()


df.describe()


df.shape


plt.scatter(df.age,df.bought_insurance,marker="+",color="black")


from sklearn.model_selection import train_test_split


X_train,X_test,Y_train,Y_test = train_test_split(df[['age']],df['bought_insurance'] , test_size=0.1)


from sklearn.linear_model import LogisticRegression


model = LogisticRegression()


model.fit(X_train,Y_train)


Y_test


model.predict(X_test)


model.score(X_test,Y_test)


model.predict_proba(X_test)



